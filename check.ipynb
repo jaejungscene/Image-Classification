{
 "cells": [
  {
   "cell_type": "code",
   "execution_count": 39,
   "metadata": {},
   "outputs": [
    {
     "name": "stdout",
     "output_type": "stream",
     "text": [
      "<class '__main__.CIFAR10_Dataset'>\n"
     ]
    },
    {
     "ename": "AttributeError",
     "evalue": "'CIFAR10_Dataset' object has no attribute 'samples'",
     "output_type": "error",
     "traceback": [
      "\u001b[0;31m---------------------------------------------------------------------------\u001b[0m",
      "\u001b[0;31mAttributeError\u001b[0m                            Traceback (most recent call last)",
      "\u001b[1;32m/home/ljj0512/private/workspace/image-classification-with-pytorch/check.ipynb Cell 1\u001b[0m in \u001b[0;36m<cell line: 67>\u001b[0;34m()\u001b[0m\n\u001b[1;32m     <a href='vscode-notebook-cell://ssh-remote%2B202.30.30.19/home/ljj0512/private/workspace/image-classification-with-pytorch/check.ipynb#W0sdnNjb2RlLXJlbW90ZQ%3D%3D?line=60'>61</a>\u001b[0m test_loader \u001b[39m=\u001b[39m torch\u001b[39m.\u001b[39mutils\u001b[39m.\u001b[39mdata\u001b[39m.\u001b[39mDataLoader(dataset\u001b[39m=\u001b[39mtest_dataset,\n\u001b[1;32m     <a href='vscode-notebook-cell://ssh-remote%2B202.30.30.19/home/ljj0512/private/workspace/image-classification-with-pytorch/check.ipynb#W0sdnNjb2RlLXJlbW90ZQ%3D%3D?line=61'>62</a>\u001b[0m                                           batch_size\u001b[39m=\u001b[39mbatch_size,\n\u001b[1;32m     <a href='vscode-notebook-cell://ssh-remote%2B202.30.30.19/home/ljj0512/private/workspace/image-classification-with-pytorch/check.ipynb#W0sdnNjb2RlLXJlbW90ZQ%3D%3D?line=62'>63</a>\u001b[0m                                           shuffle\u001b[39m=\u001b[39m\u001b[39mFalse\u001b[39;00m,\n\u001b[1;32m     <a href='vscode-notebook-cell://ssh-remote%2B202.30.30.19/home/ljj0512/private/workspace/image-classification-with-pytorch/check.ipynb#W0sdnNjb2RlLXJlbW90ZQ%3D%3D?line=63'>64</a>\u001b[0m                                           num_workers\u001b[39m=\u001b[39m\u001b[39m0\u001b[39m)\n\u001b[1;32m     <a href='vscode-notebook-cell://ssh-remote%2B202.30.30.19/home/ljj0512/private/workspace/image-classification-with-pytorch/check.ipynb#W0sdnNjb2RlLXJlbW90ZQ%3D%3D?line=65'>66</a>\u001b[0m \u001b[39mprint\u001b[39m(\u001b[39mtype\u001b[39m(train_dataset))\n\u001b[0;32m---> <a href='vscode-notebook-cell://ssh-remote%2B202.30.30.19/home/ljj0512/private/workspace/image-classification-with-pytorch/check.ipynb#W0sdnNjb2RlLXJlbW90ZQ%3D%3D?line=66'>67</a>\u001b[0m \u001b[39mprint\u001b[39m(\u001b[39mlen\u001b[39m(train_dataset[\u001b[39m0\u001b[39;49m]))\n\u001b[1;32m     <a href='vscode-notebook-cell://ssh-remote%2B202.30.30.19/home/ljj0512/private/workspace/image-classification-with-pytorch/check.ipynb#W0sdnNjb2RlLXJlbW90ZQ%3D%3D?line=67'>68</a>\u001b[0m \u001b[39mimport\u001b[39;00m \u001b[39mmatplotlib\u001b[39;00m\u001b[39m.\u001b[39;00m\u001b[39mpyplot\u001b[39;00m \u001b[39mas\u001b[39;00m \u001b[39mplt\u001b[39;00m\n\u001b[1;32m     <a href='vscode-notebook-cell://ssh-remote%2B202.30.30.19/home/ljj0512/private/workspace/image-classification-with-pytorch/check.ipynb#W0sdnNjb2RlLXJlbW90ZQ%3D%3D?line=68'>69</a>\u001b[0m \u001b[39mfrom\u001b[39;00m \u001b[39mtorchvision\u001b[39;00m\u001b[39m.\u001b[39;00m\u001b[39mutils\u001b[39;00m \u001b[39mimport\u001b[39;00m make_grid\n",
      "\u001b[1;32m/home/ljj0512/private/workspace/image-classification-with-pytorch/check.ipynb Cell 1\u001b[0m in \u001b[0;36mCIFAR10_Dataset.__getitem__\u001b[0;34m(self, idx)\u001b[0m\n\u001b[1;32m     <a href='vscode-notebook-cell://ssh-remote%2B202.30.30.19/home/ljj0512/private/workspace/image-classification-with-pytorch/check.ipynb#W0sdnNjb2RlLXJlbW90ZQ%3D%3D?line=37'>38</a>\u001b[0m \u001b[39mdef\u001b[39;00m \u001b[39m__getitem__\u001b[39m(\u001b[39mself\u001b[39m, idx):\n\u001b[0;32m---> <a href='vscode-notebook-cell://ssh-remote%2B202.30.30.19/home/ljj0512/private/workspace/image-classification-with-pytorch/check.ipynb#W0sdnNjb2RlLXJlbW90ZQ%3D%3D?line=38'>39</a>\u001b[0m     path, label \u001b[39m=\u001b[39m \u001b[39mself\u001b[39;49m\u001b[39m.\u001b[39;49msamples[idx]\n\u001b[1;32m     <a href='vscode-notebook-cell://ssh-remote%2B202.30.30.19/home/ljj0512/private/workspace/image-classification-with-pytorch/check.ipynb#W0sdnNjb2RlLXJlbW90ZQ%3D%3D?line=39'>40</a>\u001b[0m     image \u001b[39m=\u001b[39m cv2\u001b[39m.\u001b[39mimread(path)\n\u001b[1;32m     <a href='vscode-notebook-cell://ssh-remote%2B202.30.30.19/home/ljj0512/private/workspace/image-classification-with-pytorch/check.ipynb#W0sdnNjb2RlLXJlbW90ZQ%3D%3D?line=40'>41</a>\u001b[0m     image \u001b[39m=\u001b[39m cv2\u001b[39m.\u001b[39mcvtColor(image, cv2\u001b[39m.\u001b[39mCOLOR_BGR2RGB)\n",
      "\u001b[0;31mAttributeError\u001b[0m: 'CIFAR10_Dataset' object has no attribute 'samples'"
     ]
    }
   ],
   "source": [
    "import torch\n",
    "import torch.nn as nn\n",
    "import torch.optim as optim\n",
    "import cv2\n",
    "from torchvision import datasets, transforms\n",
    "from torch.utils.data import Dataset\n",
    "import albumentations as A\n",
    "from albumentations.pytorch import ToTensorV2\n",
    "import time\n",
    "import os\n",
    "import torch.backends.cudnn as cudnn\n",
    "\n",
    "dic = {0:'airplane', 1:'automobile', 2:'bird', 3:'cat', 4:'deer',\n",
    "        5:'dog', 6:'frog', 7:'horse', 8:'ship', 9:'truck'}\n",
    "\n",
    "os.environ[\"CUDA_VISIBLE_DEVICES\"] = '0'\n",
    "start_time = time.time()\n",
    "batch_size = 128\n",
    "learning_rate = 0.1\n",
    "\n",
    "transform = A.Compose([\n",
    "    A.Resize(224,224),\n",
    "    ToTensorV2(),\n",
    "    A.Normalize(\n",
    "        mean=[0.485, 0.456, 0.406],\n",
    "        std=[0.299, 0.224, 0.225],\n",
    "    ),\n",
    "])\n",
    "\n",
    "# transform = transforms.Compose([\n",
    "#     transforms.Resize([224, 224]),    \n",
    "#     transforms.ToTensor(),\n",
    "#     transforms.Normalize(mean=(0.4914, 0.4824, 0.4467),\n",
    "#                           std=(0.2471, 0.2436, 0.2616))\n",
    "# ])\n",
    "\n",
    "class CIFAR10_Dataset(datasets.CIFAR10):\n",
    "    # override\n",
    "    def __getitem__(self, idx):\n",
    "        img, label = self.data[idx], self.targets[idx]\n",
    "        if self.transform is not None:\n",
    "            img = self.transform(image=img)\n",
    "        if self.target_transform  is not None:\n",
    "            target = self.target_transform(image=target)\n",
    "        return img, label\n",
    "\n",
    "root = \"/home/ljj0512/private/data/cifar-10/\"\n",
    "train_dataset = CIFAR10_Dataset(root=root,\n",
    "                                train=True,\n",
    "                                transform=transform)\n",
    "\n",
    "test_dataset = CIFAR10_Dataset( root=root,\n",
    "                                train=False,\n",
    "                                transform=transform)\n",
    "\n",
    "train_loader = torch.utils.data.DataLoader(dataset=train_dataset,\n",
    "                                           batch_size=batch_size,\n",
    "                                           shuffle=True,\n",
    "                                           num_workers=0)\n",
    "\n",
    "test_loader = torch.utils.data.DataLoader(dataset=test_dataset,\n",
    "                                          batch_size=batch_size,\n",
    "                                          shuffle=False,\n",
    "                                          num_workers=0)\n",
    "\n",
    "print(type(train_dataset))\n",
    "print(len(train_dataset[0]))\n",
    "import matplotlib.pyplot as plt\n",
    "from torchvision.utils import make_grid\n",
    "# plt.imshow(type(train_dataset))\n",
    "# plt.show()\n",
    "\n",
    "# for idx, (data, target) in enumerate(train_loader):\n",
    "#    if idx == 1:\n",
    "#       break\n",
    "#    print('**',dic[target[0].item()],'**')\n",
    "#    plt.imshow(data[0].permute(1,2,0))\n",
    "#    plt.show()\n",
    "#    print('data.shape :',data.shape) # batch_size, C, H, W\n",
    "#    print('target.shape :',target.shape)\n",
    "#    print()\n",
    "\n",
    "\n",
    "# for images, _ in train_loader:\n",
    "#    print('images.shape:', images.shape)\n",
    "#    plt.figure(figsize=(16,8))\n",
    "#    plt.axis('off')\n",
    "#    plt.imshow(make_grid(images, nrow=16).permute((1, 2, 0)))\n",
    "#    break\n",
    "# plt.show()"
   ]
  },
  {
   "cell_type": "code",
   "execution_count": null,
   "metadata": {},
   "outputs": [],
   "source": []
  }
 ],
 "metadata": {
  "kernelspec": {
   "display_name": "Python 3.8.13 ('torch')",
   "language": "python",
   "name": "python3"
  },
  "language_info": {
   "name": "python",
   "version": "3.8.13"
  },
  "orig_nbformat": 4,
  "vscode": {
   "interpreter": {
    "hash": "65fe116ec29312474b580f4ecbad52a94f46ea3a142b15e85ff8e68848a207e7"
   }
  }
 },
 "nbformat": 4,
 "nbformat_minor": 2
}
